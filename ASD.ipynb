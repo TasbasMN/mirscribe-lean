{
 "cells": [
  {
   "cell_type": "code",
   "execution_count": 3,
   "metadata": {},
   "outputs": [],
   "source": [
    "import os\n",
    "from scripts.globals import *\n",
    "import pandas as pd"
   ]
  },
  {
   "cell_type": "code",
   "execution_count": 15,
   "metadata": {},
   "outputs": [
    {
     "data": {
      "text/html": [
       "<div>\n",
       "<style scoped>\n",
       "    .dataframe tbody tr th:only-of-type {\n",
       "        vertical-align: middle;\n",
       "    }\n",
       "\n",
       "    .dataframe tbody tr th {\n",
       "        vertical-align: top;\n",
       "    }\n",
       "\n",
       "    .dataframe thead th {\n",
       "        text-align: right;\n",
       "    }\n",
       "</style>\n",
       "<table border=\"1\" class=\"dataframe\">\n",
       "  <thead>\n",
       "    <tr style=\"text-align: right;\">\n",
       "      <th></th>\n",
       "      <th>chr</th>\n",
       "      <th>pos</th>\n",
       "      <th>id</th>\n",
       "      <th>ref</th>\n",
       "      <th>alt</th>\n",
       "    </tr>\n",
       "  </thead>\n",
       "  <tbody>\n",
       "    <tr>\n",
       "      <th>0</th>\n",
       "      <td>1</td>\n",
       "      <td>24255616</td>\n",
       "      <td>PD4120aC2</td>\n",
       "      <td>A</td>\n",
       "      <td>T</td>\n",
       "    </tr>\n",
       "  </tbody>\n",
       "</table>\n",
       "</div>"
      ],
      "text/plain": [
       "   chr       pos         id ref alt\n",
       "0    1  24255616  PD4120aC2   A   T"
      ]
     },
     "execution_count": 15,
     "metadata": {},
     "output_type": "execute_result"
    }
   ],
   "source": [
    "df = pd.read_csv(\"data/sample_vcfs/sample.vcf\", sep=\"\\t\", header=None,  names=[\"chr\", \"pos\", \"id\", \"ref\", \"alt\"])\n",
    "\n",
    "df.head()"
   ]
  },
  {
   "cell_type": "code",
   "execution_count": 6,
   "metadata": {},
   "outputs": [
    {
     "data": {
      "text/html": [
       "<div>\n",
       "<style scoped>\n",
       "    .dataframe tbody tr th:only-of-type {\n",
       "        vertical-align: middle;\n",
       "    }\n",
       "\n",
       "    .dataframe tbody tr th {\n",
       "        vertical-align: top;\n",
       "    }\n",
       "\n",
       "    .dataframe thead th {\n",
       "        text-align: right;\n",
       "    }\n",
       "</style>\n",
       "<table border=\"1\" class=\"dataframe\">\n",
       "  <thead>\n",
       "    <tr style=\"text-align: right;\">\n",
       "      <th></th>\n",
       "      <th>mirna_accession</th>\n",
       "      <th>mirna_name</th>\n",
       "      <th>chr</th>\n",
       "      <th>start</th>\n",
       "      <th>end</th>\n",
       "      <th>strand</th>\n",
       "    </tr>\n",
       "  </thead>\n",
       "  <tbody>\n",
       "    <tr>\n",
       "      <th>0</th>\n",
       "      <td>MIMAT0027618</td>\n",
       "      <td>hsa-miR-6859-5p</td>\n",
       "      <td>1</td>\n",
       "      <td>17409</td>\n",
       "      <td>17431</td>\n",
       "      <td>-</td>\n",
       "    </tr>\n",
       "    <tr>\n",
       "      <th>1</th>\n",
       "      <td>MIMAT0027619</td>\n",
       "      <td>hsa-miR-6859-3p</td>\n",
       "      <td>1</td>\n",
       "      <td>17369</td>\n",
       "      <td>17391</td>\n",
       "      <td>-</td>\n",
       "    </tr>\n",
       "    <tr>\n",
       "      <th>2</th>\n",
       "      <td>MIMAT0005890</td>\n",
       "      <td>hsa-miR-1302</td>\n",
       "      <td>1</td>\n",
       "      <td>30438</td>\n",
       "      <td>30458</td>\n",
       "      <td>+</td>\n",
       "    </tr>\n",
       "    <tr>\n",
       "      <th>3</th>\n",
       "      <td>MIMAT0027618</td>\n",
       "      <td>hsa-miR-6859-5p</td>\n",
       "      <td>2</td>\n",
       "      <td>114353582</td>\n",
       "      <td>114353604</td>\n",
       "      <td>+</td>\n",
       "    </tr>\n",
       "    <tr>\n",
       "      <th>4</th>\n",
       "      <td>MIMAT0027619</td>\n",
       "      <td>hsa-miR-6859-3p</td>\n",
       "      <td>2</td>\n",
       "      <td>114353622</td>\n",
       "      <td>114353634</td>\n",
       "      <td>+</td>\n",
       "    </tr>\n",
       "  </tbody>\n",
       "</table>\n",
       "</div>"
      ],
      "text/plain": [
       "  mirna_accession       mirna_name chr      start        end strand\n",
       "0    MIMAT0027618  hsa-miR-6859-5p   1      17409      17431      -\n",
       "1    MIMAT0027619  hsa-miR-6859-3p   1      17369      17391      -\n",
       "2    MIMAT0005890     hsa-miR-1302   1      30438      30458      +\n",
       "3    MIMAT0027618  hsa-miR-6859-5p   2  114353582  114353604      +\n",
       "4    MIMAT0027619  hsa-miR-6859-3p   2  114353622  114353634      +"
      ]
     },
     "execution_count": 6,
     "metadata": {},
     "output_type": "execute_result"
    }
   ],
   "source": [
    "coords = pd.read_csv(\"data/mirna_coordinates/grch37_coordinates.csv\")\n",
    "\n",
    "coords.head()"
   ]
  },
  {
   "cell_type": "code",
   "execution_count": 16,
   "metadata": {},
   "outputs": [],
   "source": [
    "from scripts.pipeline import *\n",
    "\n",
    "invalid = \"invalid.txt\"\n",
    "df = validate_ref_nucleotides(df, invalid)  \n"
   ]
  },
  {
   "cell_type": "code",
   "execution_count": 17,
   "metadata": {},
   "outputs": [],
   "source": [
    "df['is_mirna'] = 0\n",
    "df['mirna_accession'] = None\n",
    "df[\"pos\"] = df[\"pos\"].astype(int)"
   ]
  },
  {
   "cell_type": "code",
   "execution_count": 18,
   "metadata": {},
   "outputs": [
    {
     "data": {
      "text/html": [
       "<div>\n",
       "<style scoped>\n",
       "    .dataframe tbody tr th:only-of-type {\n",
       "        vertical-align: middle;\n",
       "    }\n",
       "\n",
       "    .dataframe tbody tr th {\n",
       "        vertical-align: top;\n",
       "    }\n",
       "\n",
       "    .dataframe thead th {\n",
       "        text-align: right;\n",
       "    }\n",
       "</style>\n",
       "<table border=\"1\" class=\"dataframe\">\n",
       "  <thead>\n",
       "    <tr style=\"text-align: right;\">\n",
       "      <th></th>\n",
       "      <th>chr</th>\n",
       "      <th>pos</th>\n",
       "      <th>id</th>\n",
       "      <th>ref</th>\n",
       "      <th>alt</th>\n",
       "      <th>ref_len</th>\n",
       "      <th>alt_len</th>\n",
       "      <th>is_mirna</th>\n",
       "      <th>mirna_accession</th>\n",
       "    </tr>\n",
       "  </thead>\n",
       "  <tbody>\n",
       "    <tr>\n",
       "      <th>0</th>\n",
       "      <td>1</td>\n",
       "      <td>24255616</td>\n",
       "      <td>PD4120aC2</td>\n",
       "      <td>A</td>\n",
       "      <td>T</td>\n",
       "      <td>1</td>\n",
       "      <td>1</td>\n",
       "      <td>0</td>\n",
       "      <td>None</td>\n",
       "    </tr>\n",
       "  </tbody>\n",
       "</table>\n",
       "</div>"
      ],
      "text/plain": [
       "   chr       pos         id ref alt  ref_len  alt_len  is_mirna  \\\n",
       "0    1  24255616  PD4120aC2   A   T        1        1         0   \n",
       "\n",
       "  mirna_accession  \n",
       "0            None  "
      ]
     },
     "execution_count": 18,
     "metadata": {},
     "output_type": "execute_result"
    }
   ],
   "source": [
    "df"
   ]
  },
  {
   "cell_type": "code",
   "execution_count": 19,
   "metadata": {},
   "outputs": [
    {
     "data": {
      "text/html": [
       "<div>\n",
       "<style scoped>\n",
       "    .dataframe tbody tr th:only-of-type {\n",
       "        vertical-align: middle;\n",
       "    }\n",
       "\n",
       "    .dataframe tbody tr th {\n",
       "        vertical-align: top;\n",
       "    }\n",
       "\n",
       "    .dataframe thead th {\n",
       "        text-align: right;\n",
       "    }\n",
       "</style>\n",
       "<table border=\"1\" class=\"dataframe\">\n",
       "  <thead>\n",
       "    <tr style=\"text-align: right;\">\n",
       "      <th></th>\n",
       "      <th>mirna_accession</th>\n",
       "      <th>mirna_name</th>\n",
       "      <th>chr</th>\n",
       "      <th>start</th>\n",
       "      <th>end</th>\n",
       "      <th>strand</th>\n",
       "    </tr>\n",
       "  </thead>\n",
       "  <tbody>\n",
       "    <tr>\n",
       "      <th>0</th>\n",
       "      <td>MIMAT0027618</td>\n",
       "      <td>hsa-miR-6859-5p</td>\n",
       "      <td>1</td>\n",
       "      <td>17409</td>\n",
       "      <td>17431</td>\n",
       "      <td>-</td>\n",
       "    </tr>\n",
       "    <tr>\n",
       "      <th>1</th>\n",
       "      <td>MIMAT0027619</td>\n",
       "      <td>hsa-miR-6859-3p</td>\n",
       "      <td>1</td>\n",
       "      <td>17369</td>\n",
       "      <td>17391</td>\n",
       "      <td>-</td>\n",
       "    </tr>\n",
       "    <tr>\n",
       "      <th>2</th>\n",
       "      <td>MIMAT0005890</td>\n",
       "      <td>hsa-miR-1302</td>\n",
       "      <td>1</td>\n",
       "      <td>30438</td>\n",
       "      <td>30458</td>\n",
       "      <td>+</td>\n",
       "    </tr>\n",
       "    <tr>\n",
       "      <th>3</th>\n",
       "      <td>MIMAT0027618</td>\n",
       "      <td>hsa-miR-6859-5p</td>\n",
       "      <td>2</td>\n",
       "      <td>114353582</td>\n",
       "      <td>114353604</td>\n",
       "      <td>+</td>\n",
       "    </tr>\n",
       "    <tr>\n",
       "      <th>4</th>\n",
       "      <td>MIMAT0027619</td>\n",
       "      <td>hsa-miR-6859-3p</td>\n",
       "      <td>2</td>\n",
       "      <td>114353622</td>\n",
       "      <td>114353634</td>\n",
       "      <td>+</td>\n",
       "    </tr>\n",
       "    <tr>\n",
       "      <th>...</th>\n",
       "      <td>...</td>\n",
       "      <td>...</td>\n",
       "      <td>...</td>\n",
       "      <td>...</td>\n",
       "      <td>...</td>\n",
       "      <td>...</td>\n",
       "    </tr>\n",
       "    <tr>\n",
       "      <th>2876</th>\n",
       "      <td>MIMAT0005829</td>\n",
       "      <td>hsa-miR-1184</td>\n",
       "      <td>X</td>\n",
       "      <td>154687238</td>\n",
       "      <td>154687260</td>\n",
       "      <td>+</td>\n",
       "    </tr>\n",
       "    <tr>\n",
       "      <th>2877</th>\n",
       "      <td>MIMAT0018119</td>\n",
       "      <td>hsa-miR-3690</td>\n",
       "      <td>Y</td>\n",
       "      <td>1362820</td>\n",
       "      <td>1362842</td>\n",
       "      <td>+</td>\n",
       "    </tr>\n",
       "    <tr>\n",
       "      <th>2878</th>\n",
       "      <td>MIMAT0023714</td>\n",
       "      <td>hsa-miR-6089</td>\n",
       "      <td>Y</td>\n",
       "      <td>2477270</td>\n",
       "      <td>2477293</td>\n",
       "      <td>+</td>\n",
       "    </tr>\n",
       "    <tr>\n",
       "      <th>2879</th>\n",
       "      <td>MIMAT0039763</td>\n",
       "      <td>hsa-miR-9985</td>\n",
       "      <td>Y</td>\n",
       "      <td>4474181</td>\n",
       "      <td>4474199</td>\n",
       "      <td>+</td>\n",
       "    </tr>\n",
       "    <tr>\n",
       "      <th>2880</th>\n",
       "      <td>MIMAT0049014</td>\n",
       "      <td>hsa-miR-12120</td>\n",
       "      <td>Y</td>\n",
       "      <td>15591069</td>\n",
       "      <td>15591094</td>\n",
       "      <td>+</td>\n",
       "    </tr>\n",
       "  </tbody>\n",
       "</table>\n",
       "<p>2881 rows × 6 columns</p>\n",
       "</div>"
      ],
      "text/plain": [
       "     mirna_accession       mirna_name chr      start        end strand\n",
       "0       MIMAT0027618  hsa-miR-6859-5p   1      17409      17431      -\n",
       "1       MIMAT0027619  hsa-miR-6859-3p   1      17369      17391      -\n",
       "2       MIMAT0005890     hsa-miR-1302   1      30438      30458      +\n",
       "3       MIMAT0027618  hsa-miR-6859-5p   2  114353582  114353604      +\n",
       "4       MIMAT0027619  hsa-miR-6859-3p   2  114353622  114353634      +\n",
       "...              ...              ...  ..        ...        ...    ...\n",
       "2876    MIMAT0005829     hsa-miR-1184   X  154687238  154687260      +\n",
       "2877    MIMAT0018119     hsa-miR-3690   Y    1362820    1362842      +\n",
       "2878    MIMAT0023714     hsa-miR-6089   Y    2477270    2477293      +\n",
       "2879    MIMAT0039763     hsa-miR-9985   Y    4474181    4474199      +\n",
       "2880    MIMAT0049014    hsa-miR-12120   Y   15591069   15591094      +\n",
       "\n",
       "[2881 rows x 6 columns]"
      ]
     },
     "execution_count": 19,
     "metadata": {},
     "output_type": "execute_result"
    }
   ],
   "source": [
    "coords"
   ]
  },
  {
   "cell_type": "code",
   "execution_count": 22,
   "metadata": {},
   "outputs": [
    {
     "data": {
      "text/plain": [
       "24255616"
      ]
     },
     "execution_count": 22,
     "metadata": {},
     "output_type": "execute_result"
    }
   ],
   "source": [
    "mutation_start"
   ]
  },
  {
   "cell_type": "code",
   "execution_count": 47,
   "metadata": {},
   "outputs": [
    {
     "ename": "AttributeError",
     "evalue": "'int' object has no attribute 'astype'",
     "output_type": "error",
     "traceback": [
      "\u001b[0;31m---------------------------------------------------------------------------\u001b[0m",
      "\u001b[0;31mAttributeError\u001b[0m                            Traceback (most recent call last)",
      "Cell \u001b[0;32mIn[47], line 1\u001b[0m\n\u001b[0;32m----> 1\u001b[0m coords\u001b[38;5;241m.\u001b[39mloc[(coords\u001b[38;5;241m.\u001b[39mstart \u001b[38;5;241m<\u001b[39m\u001b[38;5;241m=\u001b[39m mutation_start) \u001b[38;5;241m&\u001b[39m (coords\u001b[38;5;241m.\u001b[39mend \u001b[38;5;241m>\u001b[39m\u001b[38;5;241m=\u001b[39m mutation_start) \u001b[38;5;241m&\u001b[39m coords\u001b[38;5;241m.\u001b[39mchr\u001b[38;5;241m.\u001b[39mastype(\u001b[38;5;28mstr\u001b[39m) \u001b[38;5;241m==\u001b[39m \u001b[43mmutation_chr\u001b[49m\u001b[38;5;241;43m.\u001b[39;49m\u001b[43mastype\u001b[49m(\u001b[38;5;28mstr\u001b[39m)]\n",
      "\u001b[0;31mAttributeError\u001b[0m: 'int' object has no attribute 'astype'"
     ]
    }
   ],
   "source": [
    "coords.loc[(coords.start <= mutation_start) & (coords.end >= mutation_start) & coords.chr.astype(str) == mutation_chr.astype(str)]"
   ]
  },
  {
   "cell_type": "code",
   "execution_count": 43,
   "metadata": {},
   "outputs": [
    {
     "data": {
      "text/html": [
       "<div>\n",
       "<style scoped>\n",
       "    .dataframe tbody tr th:only-of-type {\n",
       "        vertical-align: middle;\n",
       "    }\n",
       "\n",
       "    .dataframe tbody tr th {\n",
       "        vertical-align: top;\n",
       "    }\n",
       "\n",
       "    .dataframe thead th {\n",
       "        text-align: right;\n",
       "    }\n",
       "</style>\n",
       "<table border=\"1\" class=\"dataframe\">\n",
       "  <thead>\n",
       "    <tr style=\"text-align: right;\">\n",
       "      <th></th>\n",
       "      <th>mirna_accession</th>\n",
       "      <th>mirna_name</th>\n",
       "      <th>chr</th>\n",
       "      <th>start</th>\n",
       "      <th>end</th>\n",
       "      <th>strand</th>\n",
       "    </tr>\n",
       "  </thead>\n",
       "  <tbody>\n",
       "  </tbody>\n",
       "</table>\n",
       "</div>"
      ],
      "text/plain": [
       "Empty DataFrame\n",
       "Columns: [mirna_accession, mirna_name, chr, start, end, strand]\n",
       "Index: []"
      ]
     },
     "execution_count": 43,
     "metadata": {},
     "output_type": "execute_result"
    }
   ],
   "source": [
    "coords.loc[(coords.start <= mutation_start) & (coords.end >= mutation_start) & (coords.chr == mutation_chr)]\n"
   ]
  },
  {
   "cell_type": "code",
   "execution_count": 31,
   "metadata": {},
   "outputs": [
    {
     "data": {
      "text/html": [
       "<div>\n",
       "<style scoped>\n",
       "    .dataframe tbody tr th:only-of-type {\n",
       "        vertical-align: middle;\n",
       "    }\n",
       "\n",
       "    .dataframe tbody tr th {\n",
       "        vertical-align: top;\n",
       "    }\n",
       "\n",
       "    .dataframe thead th {\n",
       "        text-align: right;\n",
       "    }\n",
       "</style>\n",
       "<table border=\"1\" class=\"dataframe\">\n",
       "  <thead>\n",
       "    <tr style=\"text-align: right;\">\n",
       "      <th></th>\n",
       "      <th>mirna_accession</th>\n",
       "      <th>mirna_name</th>\n",
       "      <th>chr</th>\n",
       "      <th>start</th>\n",
       "      <th>end</th>\n",
       "      <th>strand</th>\n",
       "    </tr>\n",
       "  </thead>\n",
       "  <tbody>\n",
       "  </tbody>\n",
       "</table>\n",
       "</div>"
      ],
      "text/plain": [
       "Empty DataFrame\n",
       "Columns: [mirna_accession, mirna_name, chr, start, end, strand]\n",
       "Index: []"
      ]
     },
     "execution_count": 31,
     "metadata": {},
     "output_type": "execute_result"
    }
   ],
   "source": [
    "matching_rnas = coords.loc[(coords['chr'] == mutation_chr) &\n",
    "                            (coords['start'] <= mutation_start) &\n",
    "                            (coords['end'] >= mutation_start)]\n",
    "\n",
    "matching_rnas"
   ]
  },
  {
   "cell_type": "code",
   "execution_count": 34,
   "metadata": {},
   "outputs": [
    {
     "name": "stdout",
     "output_type": "stream",
     "text": [
      "1\n",
      "24255616\n"
     ]
    }
   ],
   "source": [
    "for index, row in df.iterrows():\n",
    "    mutation_chr = row['chr'].astype(str)\n",
    "    print(mutation_chr)\n",
    "    mutation_start = row['pos']\n",
    "    print(mutation_start)\n",
    "    \n",
    "    \n",
    "    \n",
    "    # Find matching miRNAs\n",
    "    matching_rnas = coords.loc[(coords['chr'] == mutation_chr) & (coords['start'] <= mutation_start) & (coords['end'] >= mutation_start)]\n",
    "\n",
    "    if not matching_rnas.empty:\n",
    "        # Update the 'is_mirna' and 'mirna_accession' columns\n",
    "        df.at[index, 'is_mirna'] = 1\n",
    "        df.at[index, 'mirna_accession'] = matching_rnas['mirna_accession'].values[0]"
   ]
  },
  {
   "cell_type": "code",
   "execution_count": 35,
   "metadata": {},
   "outputs": [
    {
     "data": {
      "text/html": [
       "<div>\n",
       "<style scoped>\n",
       "    .dataframe tbody tr th:only-of-type {\n",
       "        vertical-align: middle;\n",
       "    }\n",
       "\n",
       "    .dataframe tbody tr th {\n",
       "        vertical-align: top;\n",
       "    }\n",
       "\n",
       "    .dataframe thead th {\n",
       "        text-align: right;\n",
       "    }\n",
       "</style>\n",
       "<table border=\"1\" class=\"dataframe\">\n",
       "  <thead>\n",
       "    <tr style=\"text-align: right;\">\n",
       "      <th></th>\n",
       "      <th>chr</th>\n",
       "      <th>pos</th>\n",
       "      <th>id</th>\n",
       "      <th>ref</th>\n",
       "      <th>alt</th>\n",
       "      <th>ref_len</th>\n",
       "      <th>alt_len</th>\n",
       "      <th>is_mirna</th>\n",
       "      <th>mirna_accession</th>\n",
       "    </tr>\n",
       "  </thead>\n",
       "  <tbody>\n",
       "    <tr>\n",
       "      <th>0</th>\n",
       "      <td>1</td>\n",
       "      <td>24255616</td>\n",
       "      <td>PD4120aC2</td>\n",
       "      <td>A</td>\n",
       "      <td>T</td>\n",
       "      <td>1</td>\n",
       "      <td>1</td>\n",
       "      <td>0</td>\n",
       "      <td>None</td>\n",
       "    </tr>\n",
       "  </tbody>\n",
       "</table>\n",
       "</div>"
      ],
      "text/plain": [
       "   chr       pos         id ref alt  ref_len  alt_len  is_mirna  \\\n",
       "0    1  24255616  PD4120aC2   A   T        1        1         0   \n",
       "\n",
       "  mirna_accession  \n",
       "0            None  "
      ]
     },
     "execution_count": 35,
     "metadata": {},
     "output_type": "execute_result"
    }
   ],
   "source": [
    "df"
   ]
  },
  {
   "cell_type": "code",
   "execution_count": 49,
   "metadata": {},
   "outputs": [],
   "source": [
    "def generate_is_mirna_column(df, grch):\n",
    "    \"\"\"\n",
    "    Adds two columns to the input DataFrame:\n",
    "    'is_mirna': 1 if the mutation falls within a miRNA region, 0 otherwise\n",
    "    'mirna_accession': the accession number of the miRNA if 'is_mirna' is 1, None otherwise\n",
    "\n",
    "    Args:\n",
    "        df (pandas.DataFrame): The input DataFrame containing mutation data\n",
    "        grch (int): The genome reference coordinate system version (e.g., 37, 38)\n",
    "\n",
    "    Returns:\n",
    "        pandas.DataFrame: The input DataFrame with two additional columns ('is_mirna' and 'mirna_accession')\n",
    "    \"\"\"\n",
    "    # Construct the miRNA coordinates file path\n",
    "    mirna_coords_file = os.path.join(\n",
    "        MIRNA_COORDS_DIR, f\"grch{grch}_coordinates.csv\")\n",
    "\n",
    "    # Load miRNA coordinates\n",
    "    coords = pd.read_csv(mirna_coords_file)\n",
    "\n",
    "    # Initialize new columns\n",
    "    df['is_mirna'] = 0\n",
    "    df['mirna_accession'] = None\n",
    "\n",
    "    # Convert datatypes for both dataframes\n",
    "    df['chr'] = df['chr'].astype(str)\n",
    "    df['pos'] = df['pos'].astype(int)\n",
    "    \n",
    "    coords['chr'] = coords['chr'].astype(str)\n",
    "    coords['start'] = coords['start'].astype(int)\n",
    "    coords['end'] = coords['end'].astype(int)\n",
    "\n",
    "    # Iterate over each mutation in the mutations dataframe\n",
    "    for index, row in df.iterrows():\n",
    "        mutation_chr = row['chr']\n",
    "        mutation_start = row['pos']\n",
    "\n",
    "        # Find matching miRNAs\n",
    "        matching_rnas = coords.loc[(coords['chr'] == mutation_chr) &\n",
    "                                 (coords['start'] <= mutation_start) &\n",
    "                                 (coords['end'] >= mutation_start)]\n",
    "\n",
    "        if not matching_rnas.empty:\n",
    "            # Update the 'is_mirna' and 'mirna_accession' columns\n",
    "            df.at[index, 'is_mirna'] = 1\n",
    "            df.at[index, 'mirna_accession'] = matching_rnas['mirna_accession'].values[0]\n",
    "\n",
    "    return df\n"
   ]
  },
  {
   "cell_type": "code",
   "execution_count": null,
   "metadata": {},
   "outputs": [],
   "source": []
  },
  {
   "cell_type": "code",
   "execution_count": null,
   "metadata": {},
   "outputs": [],
   "source": []
  },
  {
   "cell_type": "code",
   "execution_count": null,
   "metadata": {},
   "outputs": [],
   "source": []
  },
  {
   "cell_type": "code",
   "execution_count": null,
   "metadata": {},
   "outputs": [],
   "source": []
  },
  {
   "cell_type": "code",
   "execution_count": 51,
   "metadata": {},
   "outputs": [],
   "source": [
    "df = generate_is_mirna_column(df, grch=37)\n"
   ]
  },
  {
   "cell_type": "code",
   "execution_count": 52,
   "metadata": {},
   "outputs": [
    {
     "data": {
      "text/html": [
       "<div>\n",
       "<style scoped>\n",
       "    .dataframe tbody tr th:only-of-type {\n",
       "        vertical-align: middle;\n",
       "    }\n",
       "\n",
       "    .dataframe tbody tr th {\n",
       "        vertical-align: top;\n",
       "    }\n",
       "\n",
       "    .dataframe thead th {\n",
       "        text-align: right;\n",
       "    }\n",
       "</style>\n",
       "<table border=\"1\" class=\"dataframe\">\n",
       "  <thead>\n",
       "    <tr style=\"text-align: right;\">\n",
       "      <th></th>\n",
       "      <th>chr</th>\n",
       "      <th>pos</th>\n",
       "      <th>id</th>\n",
       "      <th>ref</th>\n",
       "      <th>alt</th>\n",
       "      <th>ref_len</th>\n",
       "      <th>alt_len</th>\n",
       "      <th>is_mirna</th>\n",
       "      <th>mirna_accession</th>\n",
       "    </tr>\n",
       "  </thead>\n",
       "  <tbody>\n",
       "    <tr>\n",
       "      <th>0</th>\n",
       "      <td>1</td>\n",
       "      <td>24255616</td>\n",
       "      <td>PD4120aC2</td>\n",
       "      <td>A</td>\n",
       "      <td>T</td>\n",
       "      <td>1</td>\n",
       "      <td>1</td>\n",
       "      <td>1</td>\n",
       "      <td>MIMAT0018932</td>\n",
       "    </tr>\n",
       "  </tbody>\n",
       "</table>\n",
       "</div>"
      ],
      "text/plain": [
       "  chr       pos         id ref alt  ref_len  alt_len  is_mirna mirna_accession\n",
       "0   1  24255616  PD4120aC2   A   T        1        1         1    MIMAT0018932"
      ]
     },
     "execution_count": 52,
     "metadata": {},
     "output_type": "execute_result"
    }
   ],
   "source": [
    "df"
   ]
  },
  {
   "cell_type": "code",
   "execution_count": null,
   "metadata": {},
   "outputs": [],
   "source": []
  },
  {
   "cell_type": "code",
   "execution_count": null,
   "metadata": {},
   "outputs": [],
   "source": []
  },
  {
   "cell_type": "code",
   "execution_count": null,
   "metadata": {},
   "outputs": [],
   "source": []
  }
 ],
 "metadata": {
  "kernelspec": {
   "display_name": "mirscribe-lean-IjTOmFCF-py3.10",
   "language": "python",
   "name": "python3"
  },
  "language_info": {
   "codemirror_mode": {
    "name": "ipython",
    "version": 3
   },
   "file_extension": ".py",
   "mimetype": "text/x-python",
   "name": "python",
   "nbconvert_exporter": "python",
   "pygments_lexer": "ipython3",
   "version": "3.10.12"
  }
 },
 "nbformat": 4,
 "nbformat_minor": 2
}
